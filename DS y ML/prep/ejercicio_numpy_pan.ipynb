{
 "cells": [
  {
   "cell_type": "code",
   "execution_count": 29,
   "metadata": {},
   "outputs": [],
   "source": [
    "import numpy as np\n",
    "# brownie, galleta, pastel\n",
    "price = [2, 1, 10]\n",
    "type(price)\n",
    "quantity_sold = [17, 40, 1]\n",
    "type(quantity_sold)\n",
    "\n",
    "\n",
    "price_array = np.array(price)\n",
    "quantity_sold_array = np.array(quantity_sold)\n",
    "type(price_array)\n",
    "\n",
    "\n",
    "cost_array = np.array([0.25, 0.50, 5.00])\n",
    "\n",
    "profit_array = price_array - cost_array\n",
    "profit_array > 2.00\n",
    "price_array = price_array + [7]\n",
    "\n",
    "price_array = price_array - [7]\n",
    "# The proper way to append an element to an array\n",
    "price_array = np.append(price_array, 7)\n",
    "price_array = np.append(price_array, [4.50, 3, 4, 9])\n",
    "price_array = np.delete(price_array, -1)\n",
    "price_array[2] = 12"
   ]
  },
  {
   "cell_type": "code",
   "execution_count": 30,
   "metadata": {},
   "outputs": [
    {
     "data": {
      "text/plain": [
       "array([34. , 39. , 12. , 14. , 13.5, 48. , 20. ])"
      ]
     },
     "execution_count": 30,
     "metadata": {},
     "output_type": "execute_result"
    }
   ],
   "source": [
    "# tarta, dulces, magdalenas, pan de platano\n",
    "quantity_sold_array = np.append(quantity_sold_array, [2, 3, 16, 5])\n",
    "quantity_sold_array[1] = 39\n",
    "\n",
    "revenue_array = price_array * quantity_sold_array\n",
    "revenue_array\n"
   ]
  },
  {
   "cell_type": "code",
   "execution_count": 31,
   "metadata": {},
   "outputs": [
    {
     "data": {
      "text/plain": [
       "array([ 0. ,  0. , 12. ,  3.5, 13.5,  0. ,  4. ])"
      ]
     },
     "execution_count": 31,
     "metadata": {},
     "output_type": "execute_result"
    }
   ],
   "source": [
    "quantity_leftover = np.array([0, 0, 2, 1, 6, 0, 2])\n",
    "quantity_leftover = quantity_leftover * 0.5\n",
    "quantity_leftover * price_array\n"
   ]
  },
  {
   "cell_type": "code",
   "execution_count": 32,
   "metadata": {},
   "outputs": [
    {
     "data": {
      "text/plain": [
       "213.5"
      ]
     },
     "execution_count": 32,
     "metadata": {},
     "output_type": "execute_result"
    }
   ],
   "source": [
    "suma = quantity_leftover * price_array\n",
    "suma.sum() + revenue_array.sum()"
   ]
  }
 ],
 "metadata": {
  "kernelspec": {
   "display_name": "Python 3",
   "language": "python",
   "name": "python3"
  },
  "language_info": {
   "codemirror_mode": {
    "name": "ipython",
    "version": 3
   },
   "file_extension": ".py",
   "mimetype": "text/x-python",
   "name": "python",
   "nbconvert_exporter": "python",
   "pygments_lexer": "ipython3",
   "version": "3.11.6"
  }
 },
 "nbformat": 4,
 "nbformat_minor": 2
}

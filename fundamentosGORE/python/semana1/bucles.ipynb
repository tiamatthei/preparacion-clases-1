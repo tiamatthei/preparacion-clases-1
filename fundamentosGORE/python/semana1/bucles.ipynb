{
 "cells": [
  {
   "cell_type": "code",
   "execution_count": null,
   "metadata": {},
   "outputs": [],
   "source": [
    "# 3 variables: lownum, highnum, mult\n",
    "# lowNum: inicio\n",
    "# highNum: final\n",
    "# mult: multiplos de\n",
    "\n",
    "lowNum = 3\n",
    "highNum = 9\n",
    "mult = 3\n",
    "\n",
    "# asignando una variable\n",
    "# variable = 0\n",
    "\n",
    "# comparando una variable con 0 (en este caso)\n",
    "# variable == 0\n",
    "\n",
    "for numero in range(lowNum, highNum + 1):\n",
    "    if numero % mult == 0:\n",
    "        print(numero)\n"
   ]
  },
  {
   "cell_type": "code",
   "execution_count": 8,
   "metadata": {},
   "outputs": [
    {
     "name": "stdout",
     "output_type": "stream",
     "text": [
      "62500000000\n"
     ]
    }
   ],
   "source": [
    "#Enteros impares desde 0 a 500.000\n",
    "#Guardar la suma\n",
    "#Imprimir la suma al final\n",
    "\n",
    "suma = 0\n",
    "\n",
    "for num in range(0, 500_000):\n",
    "    if not num%2 == 0:\n",
    "        suma += num\n",
    "        \n",
    "\n",
    "print(suma)\n",
    "\n",
    "\n"
   ]
  },
  {
   "cell_type": "code",
   "execution_count": null,
   "metadata": {
    "vscode": {
     "languageId": "javascript"
    }
   },
   "outputs": [],
   "source": [
    "for (let index = 0; index < array.length; index++) {\n",
    "    const element = array[index];\n",
    "    \n",
    "} \n",
    "\n",
    "for (var element of arr) {\n",
    "    console.log(element);\n",
    "}"
   ]
  },
  {
   "cell_type": "code",
   "execution_count": 15,
   "metadata": {},
   "outputs": [
    {
     "name": "stdout",
     "output_type": "stream",
     "text": [
      "zapatos\n",
      "helado\n",
      "pan\n"
     ]
    }
   ],
   "source": [
    "arreglo = [\"zapatos\", \"helado\", \"pan\"]\n",
    "for element in arreglo:\n",
    "    print(element)    "
   ]
  }
 ],
 "metadata": {
  "kernelspec": {
   "display_name": "Python 3",
   "language": "python",
   "name": "python3"
  },
  "language_info": {
   "codemirror_mode": {
    "name": "ipython",
    "version": 3
   },
   "file_extension": ".py",
   "mimetype": "text/x-python",
   "name": "python",
   "nbconvert_exporter": "python",
   "pygments_lexer": "ipython3",
   "version": "3.11.4"
  },
  "orig_nbformat": 4
 },
 "nbformat": 4,
 "nbformat_minor": 2
}
